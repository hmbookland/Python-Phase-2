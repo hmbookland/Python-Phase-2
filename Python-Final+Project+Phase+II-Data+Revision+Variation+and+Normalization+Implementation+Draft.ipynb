{
 "cells": [
  {
   "cell_type": "code",
   "execution_count": 33,
   "metadata": {},
   "outputs": [
    {
     "name": "stdout",
     "output_type": "stream",
     "text": [
      "               A2          A3          A4          A5          A6          A7  \\\n",
      "count  699.000000  699.000000  699.000000  699.000000  699.000000  699.000000   \n",
      "mean     4.417740    3.134478    3.207439    2.806867    3.216023    3.544656   \n",
      "std      2.815741    3.051459    2.971913    2.855379    2.214300    3.601852   \n",
      "min      1.000000    1.000000    1.000000    1.000000    1.000000    1.000000   \n",
      "25%      2.000000    1.000000    1.000000    1.000000    2.000000    1.000000   \n",
      "50%      4.000000    1.000000    1.000000    1.000000    2.000000    1.000000   \n",
      "75%      6.000000    5.000000    5.000000    4.000000    4.000000    5.000000   \n",
      "max     10.000000   10.000000   10.000000   10.000000   10.000000   10.000000   \n",
      "\n",
      "               A8          A9         A10  \n",
      "count  699.000000  699.000000  699.000000  \n",
      "mean     3.437768    2.866953    1.589413  \n",
      "std      2.438364    3.053634    1.715078  \n",
      "min      1.000000    1.000000    1.000000  \n",
      "25%      2.000000    1.000000    1.000000  \n",
      "50%      3.000000    1.000000    1.000000  \n",
      "75%      5.000000    4.000000    1.000000  \n",
      "max     10.000000   10.000000   10.000000  \n",
      "The Standard Deviation is :\n",
      "A2     2.815741\n",
      "A3     3.051459\n",
      "A4     2.971913\n",
      "A5     2.855379\n",
      "A6     2.214300\n",
      "A7     3.601852\n",
      "A8     2.438364\n",
      "A9     3.053634\n",
      "A10    1.715078\n",
      "dtype: float64\n"
     ]
    },
    {
     "data": {
      "image/png": "[encoded data removed]",
      "text/plain": [
       "<matplotlib.figure.Figure at 0x1143ec588>"
      ]
     },
     "metadata": {},
     "output_type": "display_data"
    }
   ],
   "source": [
    "\n",
    "\n",
    "from pandas import Series, DataFrame\n",
    "import pandas as pd\n",
    "import numpy as np\n",
    "import matplotlib.pylab as plt\n",
    "from sklearn.cross_validation import train_test_split\n",
    "from sklearn.cluster import KMeans\n",
    "\n",
    "df= pd.read_csv(\"Breast-Cancer-Wisconsin.csv\", na_values= [\"?\"])\n",
    "df= df.apply(pd.to_numeric, errors='coerce')\n",
    "\n",
    "#Fill in missing values with Mean\n",
    "df= df.fillna(df.mean())\n",
    "\n",
    "\n",
    "data_clean = df.fillna(df.mean())\n",
    "\n",
    "## Simply cleaning the data not utilizing labels since they aren't needed per the phase 2 form\n",
    "cluster = data_clean[['A2','A3','A4','A5','A6','A7',\n",
    "'A8','A9','A10']]\n",
    "\n",
    "#Print the clusters and describe the output\n",
    "print(cluster.describe())\n",
    "\n",
    "\n",
    "# Utilized to identify the k-means cluster analysis. Specifically looking at the range of 1-10 clusters\n",
    "from scipy.spatial.distance import cdist\n",
    "clusters=range(1,11)\n",
    "meandist=[]\n",
    "\n",
    "\n",
    "\n",
    "\n",
    "# Interpret 4 clusters for the Solution output\n",
    "\n",
    "#Revise data variation \n",
    "#apply standard deviation function for columns A2-A10\n",
    "\n",
    "Standard_Deviation=cluster.std()\n",
    "print(\"The Standard Deviation is :\")\n",
    "print(Standard_Deviation)\n",
    "\n",
    "#plot standard deviation values - select a graphic that could display all nine values [do not use histogram], add title, legend, ylabel, xlabel. Can you capture how wide or narrow is the variation in each column?\n",
    "y=range(2,11)\n",
    "plt.figure()\n",
    "plt.bar(y, Standard_Deviation)\n",
    "plt.xlabel('Number of clusters')\n",
    "plt.ylabel('Standard Deviation')\n",
    "plt.title('Standard Deviation')\n",
    "plt.show()\n",
    "\n",
    "#describe which features have a lot of data variation\n",
    "\n",
    "#Implement normalization \n",
    "#import make_pipeline - use sklearn.pipeline\n",
    "from sklearn.pipeline import make_pipeline\n",
    "\n",
    "#import StandardScaler\n",
    "from sklearn.preprocessing import StandardScaler\n",
    "\n",
    "#review datacamp if needed on how to create a pipeline\n",
    "\n",
    "#use the n_cluster based on the optimal number you have identified from Inertia\n",
    "\n",
    "#find centroids and print them\n",
    "\n"
   ]
  },
  {
   "cell_type": "code",
   "execution_count": null,
   "metadata": {
    "collapsed": true
   },
   "outputs": [],
   "source": []
  }
 ],
 "metadata": {
  "kernelspec": {
   "display_name": "Python 3",
   "language": "python",
   "name": "python3"
  },
  "language_info": {
   "codemirror_mode": {
    "name": "ipython",
    "version": 3
   },
   "file_extension": ".py",
   "mimetype": "text/x-python",
   "name": "python",
   "nbconvert_exporter": "python",
   "pygments_lexer": "ipython3",
   "version": "3.6.3"
  }
 },
 "nbformat": 4,
 "nbformat_minor": 2
}
